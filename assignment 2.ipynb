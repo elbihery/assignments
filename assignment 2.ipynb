{
 "cells": [
  {
   "cell_type": "code",
   "execution_count": 3,
   "id": "45e65b1d",
   "metadata": {},
   "outputs": [
    {
     "name": "stdout",
     "output_type": "stream",
     "text": [
      "(4, 6, 2, 8, 3, 1)\n",
      "(4, 6, 2, 8, 3, 1, 9)\n"
     ]
    }
   ],
   "source": [
    "#1. Write a Python program to add an item to a tuple\n",
    "tuplex = (4, 6, 2, 8, 3, 1)\n",
    "print(tuplex)\n",
    "tuplex = tuplex + (9,)\n",
    "print(tuplex)"
   ]
  },
  {
   "cell_type": "code",
   "execution_count": 5,
   "id": "01ba9d15",
   "metadata": {},
   "outputs": [
    {
     "name": "stdout",
     "output_type": "stream",
     "text": [
      "9\n"
     ]
    }
   ],
   "source": [
    "#2. Write a Python program to sum all the items in a list.\n",
    "def sum_list(items):\n",
    "   \n",
    "    sum_numbers = 0\n",
    "    \n",
    "    for x in items:\n",
    "       \n",
    "        sum_numbers += x\n",
    "    \n",
    "    return sum_numbers\n",
    "\n",
    "\n",
    "print(sum_list([1, 2, 6]))"
   ]
  },
  {
   "cell_type": "code",
   "execution_count": 7,
   "id": "43b896d7",
   "metadata": {},
   "outputs": [
    {
     "name": "stdout",
     "output_type": "stream",
     "text": [
      "-40\n"
     ]
    }
   ],
   "source": [
    "#3. Write a Python program to multiply all the items in a list\n",
    "\n",
    "def multiply_list(items):\n",
    "   \n",
    "    tot = 1\n",
    "    \n",
    "    for x in items:\n",
    "        \n",
    "        tot *= x\n",
    "  \n",
    "    return tot\n",
    "\n",
    "\n",
    "print(multiply_list([1, 5, -8]))\n"
   ]
  },
  {
   "cell_type": "code",
   "execution_count": 8,
   "id": "72f89413",
   "metadata": {},
   "outputs": [
    {
     "name": "stdout",
     "output_type": "stream",
     "text": [
      "-8\n"
     ]
    }
   ],
   "source": [
    "#4. Write a Python program to get the smallest number from a list.\n",
    "\n",
    "def smallest_num_in_list(list):\n",
    "    \n",
    "    min = list[0]\n",
    "    \n",
    "    for a in list:\n",
    "        if a < min:\n",
    "            min = a\n",
    "    return min\n",
    "\n",
    "print(smallest_num_in_list([1, 2, -8, 0])) \n"
   ]
  },
  {
   "cell_type": "code",
   "execution_count": 9,
   "id": "4811d504",
   "metadata": {},
   "outputs": [
    {
     "name": "stdout",
     "output_type": "stream",
     "text": [
      "2\n"
     ]
    }
   ],
   "source": [
    "#5. Write a Python program to get the largest number from a list.\n",
    "def max_num_in_list(list):\n",
    "    max = list[0]\n",
    "    for a in list:\n",
    "        if a > max:\n",
    "            max = a\n",
    "    return max\n",
    "\n",
    "print(max_num_in_list([1, 2, -8, 0]))\n"
   ]
  },
  {
   "cell_type": "code",
   "execution_count": 10,
   "id": "9cbccc3d",
   "metadata": {},
   "outputs": [
    {
     "name": "stdout",
     "output_type": "stream",
     "text": [
      "2\n"
     ]
    }
   ],
   "source": [
    "#6. Write a Python program to count the number of strings from a given list of strings.\n",
    "def match_words(words):\n",
    "    ctr = 0\n",
    "\n",
    "    for word in words:\n",
    "        if len(word) > 1 and word[0] == word[-1]:\n",
    "            ctr += 1\n",
    "\n",
    "    return ctr\n",
    "\n",
    "print(match_words(['abc', 'xyz', 'aba', '1221']))\n"
   ]
  },
  {
   "cell_type": "code",
   "execution_count": 11,
   "id": "c5c7586a",
   "metadata": {},
   "outputs": [
    {
     "name": "stdout",
     "output_type": "stream",
     "text": [
      "[10, 22, 44, 23, 4]\n",
      "[10, 22, 44, 23, 4]\n"
     ]
    }
   ],
   "source": [
    "#7. Write a Python program to clone or copy a list\n",
    "original_list = [10, 22, 44, 23, 4]\n",
    "\n",
    "new_list = list(original_list)\n",
    "\n",
    "print(original_list)\n",
    "\n",
    "print(new_list)\n"
   ]
  },
  {
   "cell_type": "code",
   "execution_count": 12,
   "id": "47fe6aea",
   "metadata": {},
   "outputs": [
    {
     "name": "stdout",
     "output_type": "stream",
     "text": [
      "Original set:\n",
      "{0, 1, 3, 4, 5}\n",
      "\n",
      "After removing the first element from the said set:\n",
      "{1, 3, 4, 5}\n"
     ]
    }
   ],
   "source": [
    "#8. Write a Python program to remove item(s) from a given set\n",
    "num_set = set([0, 1, 3, 4, 5])\n",
    "\n",
    "print(\"Original set:\")\n",
    "\n",
    "print(num_set)\n",
    "\n",
    "num_set.pop()\n",
    "\n",
    "print(\"\\nAfter removing the first element from the said set:\")\n",
    "\n",
    "print(num_set) \n"
   ]
  },
  {
   "cell_type": "code",
   "execution_count": 14,
   "id": "799327c3",
   "metadata": {},
   "outputs": [
    {
     "name": "stdout",
     "output_type": "stream",
     "text": [
      "Check if a set is a subset of another set, using comparison operators and issubset():\n",
      "\n",
      "x:  {'mango', 'apple'}\n",
      "y:  {'orange', 'mango'}\n",
      "z:  {'mango'}\n",
      "If x is a subset of y\n",
      "False\n",
      "False\n",
      "If y is a subset of x\n",
      "False\n",
      "False\n",
      "\n",
      "If y is a subset of z\n",
      "False\n",
      "False\n",
      "If z is a subset of y\n",
      "True\n",
      "True\n"
     ]
    }
   ],
   "source": [
    "#9. Write a Python program to check if a set is a subset of another set.\n",
    "print(\"Check if a set is a subset of another set, using comparison operators and issubset():\\n\")\n",
    "\n",
    "setx = set([\"apple\", \"mango\"])\n",
    "sety = set([\"mango\", \"orange\"])\n",
    "setz = set([\"mango\"])\n",
    "\n",
    "print(\"x: \", setx)\n",
    "print(\"y: \", sety)\n",
    "print(\"z: \", setz)\n",
    "\n",
    "print(\"If x is a subset of y\")\n",
    "print(setx <= sety)\n",
    "print(setx.issubset(sety))\n",
    "\n",
    "print(\"If y is a subset of x\")\n",
    "print(sety <= setx)\n",
    "print(sety.issubset(setx))\n",
    "\n",
    "print(\"\\nIf y is a subset of z\")\n",
    "print(sety <= setz)\n",
    "print(sety.issubset(setz))\n",
    "\n",
    "print(\"If z is a subset of y\")\n",
    "print(setz <= sety)\n",
    "print(setz.issubset(sety)) \n"
   ]
  },
  {
   "cell_type": "code",
   "execution_count": 19,
   "id": "4b7a5cd6",
   "metadata": {},
   "outputs": [
    {
     "name": "stdout",
     "output_type": "stream",
     "text": [
      "Original set elements:\n",
      "{'White', 'Red', 'Black', 'Green'}\n",
      "\n",
      "After removing all elements of the said set.\n",
      "set()\n"
     ]
    }
   ],
   "source": [
    "#10. Write a Python program to remove all elements from a given set.\n",
    "setc = {\"Red\", \"Green\", \"Black\", \"White\"}\n",
    "\n",
    "print(\"Original set elements:\")\n",
    "\n",
    "print(setc)\n",
    "\n",
    "print(\"\\nAfter removing all elements of the said set.\")\n",
    "\n",
    "setc.clear()\n",
    "\n",
    "print(setc) \n"
   ]
  },
  {
   "cell_type": "code",
   "execution_count": 21,
   "id": "967c20f8",
   "metadata": {},
   "outputs": [
    {
     "name": "stdout",
     "output_type": "stream",
     "text": [
      "Original set elements:\n",
      "{2, 3, 20, 5, 10, 15}\n",
      "<class 'set'>\n",
      "Maximum value of the said set:\n",
      "20\n",
      "Minimum value of the said set:\n",
      "2\n"
     ]
    }
   ],
   "source": [
    "#11. Write a Python program to find the maximum and minimum values in a set.\n",
    "setn = {5, 10, 3, 15, 2, 20}\n",
    "\n",
    "print(\"Original set elements:\")\n",
    "\n",
    "print(setn)\n",
    "\n",
    "print(type(setn))\n",
    "\n",
    "print(\"Maximum value of the said set:\")\n",
    "\n",
    "print(max(setn))\n",
    "\n",
    "print(\"Minimum value of the said set:\")\n",
    "\n",
    "print(min(setn)) \n"
   ]
  },
  {
   "cell_type": "code",
   "execution_count": 24,
   "id": "21d023ba",
   "metadata": {},
   "outputs": [
    {
     "name": "stdout",
     "output_type": "stream",
     "text": [
      "('i', 'n', 'd', 'e', 'x', ' ', 't', 'u', 'p', 'l', 'e')\n",
      "8\n",
      "8\n",
      "3\n"
     ]
    }
   ],
   "source": [
    "#12. Write a Python program to find the index of an item in a tuple.\n",
    "tuplex = tuple(\"index tuple\")\n",
    "print(tuplex)\n",
    "\n",
    "index = tuplex.index(\"p\")\n",
    "print(index)\n",
    "\n",
    "index = tuplex.index(\"p\", 5)\n",
    "print(index)\n",
    "\n",
    "index = tuplex.index(\"e\", 3, 6)\n",
    "print(index)\n"
   ]
  },
  {
   "cell_type": "code",
   "execution_count": 27,
   "id": "c6cad779",
   "metadata": {},
   "outputs": [
    {
     "name": "stdout",
     "output_type": "stream",
     "text": [
      "{'w': 2, 'r': 3}\n"
     ]
    }
   ],
   "source": [
    "#13. Write a Python program to convert a tuple to a dictionary.\n",
    "tuplex = ((2, \"w\"), (3, \"r\"))\n",
    "\n",
    "result_dict = dict((y, x) for x, y in tuplex)\n",
    "\n",
    "print(result_dict) \n"
   ]
  },
  {
   "cell_type": "code",
   "execution_count": 28,
   "id": "39488328",
   "metadata": {},
   "outputs": [
    {
     "name": "stdout",
     "output_type": "stream",
     "text": [
      "[(1, 3, 8), (2, 4, 9)]\n"
     ]
    }
   ],
   "source": [
    "#14. Write a Python program to unzip a list of tuples into individual lists\n",
    "l = [(1, 2), (3, 4), (8, 9)]\n",
    "\n",
    "\n",
    "result = list(zip(*l))\n",
    "\n",
    "print(result)\n"
   ]
  },
  {
   "cell_type": "code",
   "execution_count": 29,
   "id": "c302ea0b",
   "metadata": {},
   "outputs": [
    {
     "name": "stdout",
     "output_type": "stream",
     "text": [
      "('e', 'c', 'r', 'u', 'o', 's', 'e', 'r', '3', 'w')\n",
      "(20, 15, 10, 5)\n"
     ]
    }
   ],
   "source": [
    "#15. Write a Python program to reverse a tuple\n",
    "x = (\"w3resource\")\n",
    "\n",
    "\n",
    "y = reversed(x)\n",
    "print(tuple(y))\n",
    "\n",
    "x = (5, 10, 15, 20)\n",
    "\n",
    "\n",
    "y = reversed(x)\n",
    "print(tuple(y)) \n"
   ]
  },
  {
   "cell_type": "code",
   "execution_count": 1,
   "id": "1af0528e",
   "metadata": {},
   "outputs": [
    {
     "name": "stdout",
     "output_type": "stream",
     "text": [
      "{'x': [1, 2, 3], 'y': [1, 2], 'z': [1]}\n"
     ]
    }
   ],
   "source": [
    "#16. Write a Python program to convert a list of tuples into a dictionary.\n",
    "l = [(\"x\", 1), (\"x\", 2), (\"x\", 3), (\"y\", 1), (\"y\", 2), (\"z\", 1)]\n",
    "\n",
    "d = {}\n",
    "\n",
    "for a, b in l:\n",
    "    d.setdefault(a, []).append(b)\n",
    "\n",
    "print(d) \n"
   ]
  },
  {
   "cell_type": "code",
   "execution_count": 2,
   "id": "6c5d1b07",
   "metadata": {},
   "outputs": [
    {
     "name": "stdout",
     "output_type": "stream",
     "text": [
      "[(10, 20, 100), (40, 50, 100), (70, 80, 100)]\n"
     ]
    }
   ],
   "source": [
    "#17. Write a Python program to replace the last value of tuples in a list.\n",
    "   # Sample list: [(10, 20, 40), (40, 50, 60), (70, 80, 90)]\n",
    "   #Expected Output: [(10, 20, 100), (40, 50, 100), (70, 80, 100)]\n",
    "l = [(10, 20, 40), (40, 50, 60), (70, 80, 90)]\n",
    "\n",
    "\n",
    "print([t[:-1] + (100,) for t in l]) \n"
   ]
  },
  {
   "cell_type": "code",
   "execution_count": 3,
   "id": "5ac9b3ff",
   "metadata": {},
   "outputs": [
    {
     "name": "stdout",
     "output_type": "stream",
     "text": [
      "[('item3', '24.5'), ('item2', '15.10'), ('item1', '12.20')]\n"
     ]
    }
   ],
   "source": [
    "#18. Write a Python program to sort a tuple by its float element.\n",
    "price = [('item1', '12.20'), ('item2', '15.10'), ('item3', '24.5')]\n",
    "\n",
    "sorted_price = sorted(price, key=lambda x: float(x[1]), reverse=True)\n",
    "\n",
    "print(sorted_price)\n"
   ]
  }
 ],
 "metadata": {
  "kernelspec": {
   "display_name": "Python 3 (ipykernel)",
   "language": "python",
   "name": "python3"
  },
  "language_info": {
   "codemirror_mode": {
    "name": "ipython",
    "version": 3
   },
   "file_extension": ".py",
   "mimetype": "text/x-python",
   "name": "python",
   "nbconvert_exporter": "python",
   "pygments_lexer": "ipython3",
   "version": "3.11.5"
  }
 },
 "nbformat": 4,
 "nbformat_minor": 5
}
